{
 "cells": [
  {
   "cell_type": "code",
   "execution_count": 1,
   "metadata": {},
   "outputs": [
    {
     "name": "stderr",
     "output_type": "stream",
     "text": [
      "Using TensorFlow backend.\n"
     ]
    }
   ],
   "source": [
    "import keras\n",
    "from keras.models import Sequential\n",
    "from keras.layers import Dense, Dropout, Flatten\n",
    "from keras.layers import Conv2D, MaxPooling2D\n",
    "from keras.preprocessing import image\n",
    "from keras.callbacks import EarlyStopping\n",
    "from keras.callbacks import ModelCheckpoint\n",
    "from keras.preprocessing.image import ImageDataGenerator\n",
    "import pandas as pd \n",
    "import numpy as np \n",
    "from tqdm import tqdm\n",
    "import matplotlib.pyplot as plt\n",
    "import cv2\n",
    "from keras import models\n",
    "from keras import layers\n",
    "from keras import optimizers\n",
    "from PIL import Image\n",
    "import sklearn\n",
    "from sklearn.model_selection import train_test_split\n",
    "from statistics import mean\n"
   ]
  },
  {
   "cell_type": "code",
   "execution_count": 5,
   "metadata": {},
   "outputs": [],
   "source": [
    "def arrange_data(df):\n",
    "    \n",
    "    image_data = []\n",
    "    img_paths = np.asarray(df.iloc[:, 0]) #First column is the image paths\n",
    "    \n",
    "    for i in tqdm(range(len(img_paths))):\n",
    "              \n",
    "        img = image.load_img(img_paths[i],target_size=(200,150,3))\n",
    "        img = image.img_to_array(img)\n",
    "        img = img/255\n",
    "        image_data.append(img)\n",
    "        \n",
    "        \n",
    "    \n",
    "    X = np.array(image_data)\n",
    "    Y = np.array(df.iloc[:,1:29])\n",
    "    \n",
    "    print(\"Shape of images:\", X.shape)\n",
    "    print(\"Shape of labels:\", Y.shape)\n",
    "    \n",
    "    return X, Y\n"
   ]
  },
  {
   "cell_type": "code",
   "execution_count": 6,
   "metadata": {},
   "outputs": [
    {
     "name": "stderr",
     "output_type": "stream",
     "text": [
      "  0%|          | 65/25841 [00:00<00:39, 644.50it/s]"
     ]
    },
    {
     "name": "stdout",
     "output_type": "stream",
     "text": [
      "Processing train..\n"
     ]
    },
    {
     "name": "stderr",
     "output_type": "stream",
     "text": [
      "100%|██████████| 25841/25841 [01:50<00:00, 234.47it/s]\n",
      "  1%|          | 78/9966 [00:00<00:12, 778.51it/s]"
     ]
    },
    {
     "name": "stdout",
     "output_type": "stream",
     "text": [
      "Shape of images: (25841, 200, 150, 3)\n",
      "Shape of labels: (25841, 28)\n",
      "Processing valid..\n"
     ]
    },
    {
     "name": "stderr",
     "output_type": "stream",
     "text": [
      "100%|██████████| 9966/9966 [01:01<00:00, 162.96it/s]\n"
     ]
    },
    {
     "name": "stdout",
     "output_type": "stream",
     "text": [
      "Shape of images: (9966, 200, 150, 3)\n",
      "Shape of labels: (9966, 28)\n"
     ]
    }
   ],
   "source": [
    "print(\"Processing train..\")\n",
    "train_df = pd.read_csv(\"Train.csv\", delimiter=\" \")\n",
    "X_train, Y_train = arrange_data (train_df)\n",
    "\n",
    "print(\"Processing valid..\")\n",
    "val_df = pd.read_csv(\"Valid.csv\", delimiter=\" \")\n",
    "X_val, Y_val = arrange_data (val_df)"
   ]
  },
  {
   "cell_type": "code",
   "execution_count": 3,
   "metadata": {},
   "outputs": [
    {
     "name": "stdout",
     "output_type": "stream",
     "text": [
      "_________________________________________________________________\n",
      "Layer (type)                 Output Shape              Param #   \n",
      "=================================================================\n",
      "conv2d_5 (Conv2D)            (None, 196, 146, 16)      1216      \n",
      "_________________________________________________________________\n",
      "max_pooling2d_5 (MaxPooling2 (None, 98, 73, 16)        0         \n",
      "_________________________________________________________________\n",
      "dropout_7 (Dropout)          (None, 98, 73, 16)        0         \n",
      "_________________________________________________________________\n",
      "conv2d_6 (Conv2D)            (None, 94, 69, 32)        12832     \n",
      "_________________________________________________________________\n",
      "max_pooling2d_6 (MaxPooling2 (None, 47, 34, 32)        0         \n",
      "_________________________________________________________________\n",
      "dropout_8 (Dropout)          (None, 47, 34, 32)        0         \n",
      "_________________________________________________________________\n",
      "conv2d_7 (Conv2D)            (None, 43, 30, 64)        51264     \n",
      "_________________________________________________________________\n",
      "max_pooling2d_7 (MaxPooling2 (None, 21, 15, 64)        0         \n",
      "_________________________________________________________________\n",
      "dropout_9 (Dropout)          (None, 21, 15, 64)        0         \n",
      "_________________________________________________________________\n",
      "conv2d_8 (Conv2D)            (None, 17, 11, 64)        102464    \n",
      "_________________________________________________________________\n",
      "max_pooling2d_8 (MaxPooling2 (None, 8, 5, 64)          0         \n",
      "_________________________________________________________________\n",
      "dropout_10 (Dropout)         (None, 8, 5, 64)          0         \n",
      "_________________________________________________________________\n",
      "flatten_2 (Flatten)          (None, 2560)              0         \n",
      "_________________________________________________________________\n",
      "dense_4 (Dense)              (None, 128)               327808    \n",
      "_________________________________________________________________\n",
      "dropout_11 (Dropout)         (None, 128)               0         \n",
      "_________________________________________________________________\n",
      "dense_5 (Dense)              (None, 64)                8256      \n",
      "_________________________________________________________________\n",
      "dropout_12 (Dropout)         (None, 64)                0         \n",
      "_________________________________________________________________\n",
      "dense_6 (Dense)              (None, 28)                1820      \n",
      "=================================================================\n",
      "Total params: 505,660\n",
      "Trainable params: 505,660\n",
      "Non-trainable params: 0\n",
      "_________________________________________________________________\n"
     ]
    }
   ],
   "source": [
    "num_classes = 28  \n",
    "\n",
    "model = Sequential()\n",
    "model.add(Conv2D(filters=16, kernel_size=(5, 5), activation=\"relu\", input_shape=(200,150,3)))\n",
    "model.add(MaxPooling2D(pool_size=(2, 2)))\n",
    "model.add(Dropout(0.25))\n",
    "model.add(Conv2D(filters=32, kernel_size=(5, 5), activation='relu'))\n",
    "model.add(MaxPooling2D(pool_size=(2, 2)))\n",
    "model.add(Dropout(0.25))\n",
    "model.add(Conv2D(filters=64, kernel_size=(5, 5), activation=\"relu\"))\n",
    "model.add(MaxPooling2D(pool_size=(2, 2)))\n",
    "model.add(Dropout(0.25))\n",
    "model.add(Conv2D(filters=64, kernel_size=(5, 5), activation='relu'))\n",
    "model.add(MaxPooling2D(pool_size=(2, 2)))\n",
    "model.add(Dropout(0.25))\n",
    "model.add(Flatten())\n",
    "model.add(Dense(128, activation='relu'))\n",
    "model.add(Dropout(0.5))\n",
    "model.add(Dense(64, activation='relu'))\n",
    "model.add(Dropout(0.5))\n",
    "model.add(Dense(num_classes, activation='sigmoid'))\n",
    "model.summary()"
   ]
  },
  {
   "cell_type": "code",
   "execution_count": 8,
   "metadata": {},
   "outputs": [
    {
     "name": "stdout",
     "output_type": "stream",
     "text": [
      "WARNING:tensorflow:From /home/dmisra/keras_tf/lib/python3.5/site-packages/keras/optimizers.py:790: The name tf.train.Optimizer is deprecated. Please use tf.compat.v1.train.Optimizer instead.\n",
      "\n",
      "WARNING:tensorflow:From /home/dmisra/keras_tf/lib/python3.5/site-packages/keras/backend/tensorflow_backend.py:3376: The name tf.log is deprecated. Please use tf.math.log instead.\n",
      "\n",
      "WARNING:tensorflow:From /home/dmisra/keras_tf/lib/python3.5/site-packages/tensorflow_core/python/ops/nn_impl.py:183: where (from tensorflow.python.ops.array_ops) is deprecated and will be removed in a future version.\n",
      "Instructions for updating:\n",
      "Use tf.where in 2.0, which has the same broadcast rule as np.where\n",
      "WARNING:tensorflow:From /home/dmisra/keras_tf/lib/python3.5/site-packages/keras/backend/tensorflow_backend.py:986: The name tf.assign_add is deprecated. Please use tf.compat.v1.assign_add instead.\n",
      "\n",
      "WARNING:tensorflow:From /home/dmisra/keras_tf/lib/python3.5/site-packages/keras/backend/tensorflow_backend.py:973: The name tf.assign is deprecated. Please use tf.compat.v1.assign instead.\n",
      "\n",
      "WARNING:tensorflow:From /home/dmisra/keras_tf/lib/python3.5/site-packages/keras/backend/tensorflow_backend.py:2741: The name tf.Session is deprecated. Please use tf.compat.v1.Session instead.\n",
      "\n",
      "Train on 25841 samples, validate on 9966 samples\n",
      "Epoch 1/30\n",
      "WARNING:tensorflow:From /home/dmisra/keras_tf/lib/python3.5/site-packages/keras/backend/tensorflow_backend.py:174: The name tf.get_default_session is deprecated. Please use tf.compat.v1.get_default_session instead.\n",
      "\n",
      "WARNING:tensorflow:From /home/dmisra/keras_tf/lib/python3.5/site-packages/keras/backend/tensorflow_backend.py:181: The name tf.ConfigProto is deprecated. Please use tf.compat.v1.ConfigProto instead.\n",
      "\n",
      "WARNING:tensorflow:From /home/dmisra/keras_tf/lib/python3.5/site-packages/keras/backend/tensorflow_backend.py:190: The name tf.global_variables is deprecated. Please use tf.compat.v1.global_variables instead.\n",
      "\n",
      "WARNING:tensorflow:From /home/dmisra/keras_tf/lib/python3.5/site-packages/keras/backend/tensorflow_backend.py:199: The name tf.is_variable_initialized is deprecated. Please use tf.compat.v1.is_variable_initialized instead.\n",
      "\n",
      "WARNING:tensorflow:From /home/dmisra/keras_tf/lib/python3.5/site-packages/keras/backend/tensorflow_backend.py:206: The name tf.variables_initializer is deprecated. Please use tf.compat.v1.variables_initializer instead.\n",
      "\n",
      "25841/25841 [==============================] - 26s 1ms/step - loss: 0.2740 - acc: 0.9018 - val_loss: 0.2145 - val_acc: 0.9234\n",
      "Epoch 2/30\n",
      "25841/25841 [==============================] - 21s 822us/step - loss: 0.2254 - acc: 0.9227 - val_loss: 0.2137 - val_acc: 0.9234\n",
      "Epoch 3/30\n",
      "25841/25841 [==============================] - 22s 844us/step - loss: 0.2213 - acc: 0.9230 - val_loss: 0.2136 - val_acc: 0.9234\n",
      "Epoch 4/30\n",
      "25841/25841 [==============================] - 22s 847us/step - loss: 0.2197 - acc: 0.9229 - val_loss: 0.2136 - val_acc: 0.9234\n",
      "Epoch 5/30\n",
      "25841/25841 [==============================] - 21s 832us/step - loss: 0.2184 - acc: 0.9230 - val_loss: 0.2135 - val_acc: 0.9234\n",
      "Epoch 6/30\n",
      "25841/25841 [==============================] - 21s 830us/step - loss: 0.2178 - acc: 0.9228 - val_loss: 0.2136 - val_acc: 0.9234\n",
      "Epoch 7/30\n",
      "25841/25841 [==============================] - 22s 834us/step - loss: 0.2174 - acc: 0.9229 - val_loss: 0.2136 - val_acc: 0.9228\n",
      "Epoch 8/30\n",
      "25841/25841 [==============================] - 21s 825us/step - loss: 0.2170 - acc: 0.9229 - val_loss: 0.2136 - val_acc: 0.9234\n",
      "Epoch 9/30\n",
      "25841/25841 [==============================] - 21s 810us/step - loss: 0.2168 - acc: 0.9229 - val_loss: 0.2135 - val_acc: 0.9234\n",
      "Epoch 10/30\n",
      "25841/25841 [==============================] - 22s 840us/step - loss: 0.2166 - acc: 0.9228 - val_loss: 0.2136 - val_acc: 0.9228\n",
      "Epoch 11/30\n",
      "25841/25841 [==============================] - 22s 841us/step - loss: 0.2165 - acc: 0.9230 - val_loss: 0.2136 - val_acc: 0.9234\n",
      "Epoch 12/30\n",
      "25841/25841 [==============================] - 21s 832us/step - loss: 0.2164 - acc: 0.9229 - val_loss: 0.2136 - val_acc: 0.9234\n",
      "Epoch 13/30\n",
      "25841/25841 [==============================] - 22s 843us/step - loss: 0.2162 - acc: 0.9229 - val_loss: 0.2136 - val_acc: 0.9234\n",
      "Epoch 14/30\n",
      "25841/25841 [==============================] - 22s 850us/step - loss: 0.2161 - acc: 0.9229 - val_loss: 0.2136 - val_acc: 0.9228\n",
      "Epoch 15/30\n",
      "25841/25841 [==============================] - 22s 837us/step - loss: 0.2162 - acc: 0.9231 - val_loss: 0.2136 - val_acc: 0.9234\n",
      "Epoch 16/30\n",
      "25841/25841 [==============================] - 22s 838us/step - loss: 0.2159 - acc: 0.9230 - val_loss: 0.2136 - val_acc: 0.9234\n",
      "Epoch 17/30\n",
      "25841/25841 [==============================] - 22s 850us/step - loss: 0.2159 - acc: 0.9229 - val_loss: 0.2135 - val_acc: 0.9234\n",
      "Epoch 18/30\n",
      "25841/25841 [==============================] - 21s 823us/step - loss: 0.2158 - acc: 0.9228 - val_loss: 0.2136 - val_acc: 0.9234\n",
      "Epoch 19/30\n",
      "25841/25841 [==============================] - 21s 825us/step - loss: 0.2158 - acc: 0.9229 - val_loss: 0.2136 - val_acc: 0.9234\n",
      "Epoch 20/30\n",
      "25841/25841 [==============================] - 21s 829us/step - loss: 0.2156 - acc: 0.9230 - val_loss: 0.2136 - val_acc: 0.9228\n",
      "Epoch 21/30\n",
      "25841/25841 [==============================] - 22s 836us/step - loss: 0.2156 - acc: 0.9228 - val_loss: 0.2135 - val_acc: 0.9234\n",
      "Epoch 22/30\n",
      "25841/25841 [==============================] - 22s 836us/step - loss: 0.2156 - acc: 0.9229 - val_loss: 0.2136 - val_acc: 0.9228\n",
      "Epoch 23/30\n",
      "25841/25841 [==============================] - 22s 836us/step - loss: 0.2156 - acc: 0.9229 - val_loss: 0.2137 - val_acc: 0.9228\n",
      "Epoch 24/30\n",
      "25841/25841 [==============================] - 21s 812us/step - loss: 0.2155 - acc: 0.9230 - val_loss: 0.2136 - val_acc: 0.9234\n",
      "Epoch 25/30\n",
      "25841/25841 [==============================] - 22s 837us/step - loss: 0.2155 - acc: 0.9229 - val_loss: 0.2136 - val_acc: 0.9234\n",
      "Epoch 26/30\n",
      "25841/25841 [==============================] - 21s 804us/step - loss: 0.2154 - acc: 0.9229 - val_loss: 0.2136 - val_acc: 0.9234\n",
      "Epoch 27/30\n",
      "25841/25841 [==============================] - 22s 840us/step - loss: 0.2154 - acc: 0.9226 - val_loss: 0.2136 - val_acc: 0.9234\n",
      "Epoch 28/30\n",
      "25841/25841 [==============================] - 22s 833us/step - loss: 0.2153 - acc: 0.9228 - val_loss: 0.2135 - val_acc: 0.9234\n",
      "Epoch 29/30\n",
      "25841/25841 [==============================] - 21s 816us/step - loss: 0.2153 - acc: 0.9229 - val_loss: 0.2136 - val_acc: 0.9228\n",
      "Epoch 30/30\n",
      "25841/25841 [==============================] - 21s 830us/step - loss: 0.2153 - acc: 0.9229 - val_loss: 0.2136 - val_acc: 0.9228\n"
     ]
    }
   ],
   "source": [
    "#model.compile(loss='binary_crossentropy',\n",
    "              #optimizer=keras.optimizers.Adagrad(),\n",
    "              #metrics=['accuracy'])\n",
    "\n",
    "model.compile(optimizer='adam', loss='binary_crossentropy', metrics=['accuracy'])\n",
    "#model.compile(optimizer=optimizers.RMSprop(lr=1e-4), loss='binary_crossentropy', metrics=['accuracy'])\n",
    "\n",
    "history = model.fit(X_train, Y_train, epochs=30, validation_data=(X_val, Y_val), batch_size=64)\n",
    "model.save('Model_6c.h5')"
   ]
  },
  {
   "cell_type": "code",
   "execution_count": 9,
   "metadata": {},
   "outputs": [
    {
     "data": {
      "image/png": "[encoded data removed]",
      "text/plain": [
       "<Figure size 432x288 with 1 Axes>"
      ]
     },
     "metadata": {
      "needs_background": "light"
     },
     "output_type": "display_data"
    },
    {
     "data": {
      "image/png": "[encoded data removed]",
      "text/plain": [
       "<Figure size 432x288 with 1 Axes>"
      ]
     },
     "metadata": {
      "needs_background": "light"
     },
     "output_type": "display_data"
    }
   ],
   "source": [
    "acc = history.history['acc']\n",
    "val_acc = history.history['val_acc']\n",
    "loss = history.history['loss']\n",
    "val_loss = history.history['val_loss']\n",
    "\n",
    "epochs = range(len(acc))\n",
    "\n",
    "plt.plot(epochs, acc, 'b', label='Training acc')\n",
    "plt.plot(epochs, val_acc, 'r', label='Validation acc')\n",
    "plt.title('Training and validation accuracy')\n",
    "plt.legend()\n",
    "\n",
    "plt.figure()\n",
    "\n",
    "plt.plot(epochs, loss, 'b', label='Training loss')\n",
    "plt.plot(epochs, val_loss, 'r', label='Validation loss')\n",
    "plt.title('Training and validation loss')\n",
    "plt.legend()\n",
    "\n",
    "plt.show()"
   ]
  }
 ],
 "metadata": {
  "kernelspec": {
   "display_name": "Python 2",
   "language": "python",
   "name": "python2"
  },
  "language_info": {
   "codemirror_mode": {
    "name": "ipython",
    "version": 2
   },
   "file_extension": ".py",
   "mimetype": "text/x-python",
   "name": "python",
   "nbconvert_exporter": "python",
   "pygments_lexer": "ipython2",
   "version": "2.7.16"
  }
 },
 "nbformat": 4,
 "nbformat_minor": 4
}
