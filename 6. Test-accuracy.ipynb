{
 "cells": [
  {
   "cell_type": "code",
   "execution_count": 1,
   "metadata": {},
   "outputs": [
    {
     "name": "stderr",
     "output_type": "stream",
     "text": [
      "Using TensorFlow backend.\n"
     ]
    }
   ],
   "source": [
    "import keras\n",
    "import pandas as pd \n",
    "import numpy as np \n",
    "from tqdm import tqdm\n",
    "from keras.preprocessing import image\n",
    "import matplotlib.pyplot as plt\n",
    "import cv2\n",
    "from PIL import Image\n",
    "from keras.models import load_model\n"
   ]
  },
  {
   "cell_type": "code",
   "execution_count": 2,
   "metadata": {},
   "outputs": [],
   "source": [
    "def arrange_data(df):\n",
    "    \n",
    "    image_data = []\n",
    "    img_paths = np.asarray(df.iloc[:, 0]) #First column is the image paths\n",
    "    \n",
    "    for i in tqdm(range(len(img_paths))):\n",
    "    \n",
    "        img = image.load_img(img_paths[i],target_size=(200,150,3))\n",
    "        img = image.img_to_array(img)\n",
    "        img = img/255\n",
    "        image_data.append(img)\n",
    "        \n",
    "        \n",
    "    X = np.array(image_data)\n",
    "    Y = np.array(df.iloc[:,1:29])\n",
    "    \n",
    "    return X, Y"
   ]
  },
  {
   "cell_type": "code",
   "execution_count": 5,
   "metadata": {},
   "outputs": [],
   "source": [
    "def accuracy_score(test_path, model_path):\n",
    "    \n",
    "    test_df = pd.read_csv(test_path, delimiter=\" \")\n",
    "    X_test, Y_test = arrange_data (test_df)\n",
    "\n",
    "    model = load_model(model_path)\n",
    "\n",
    "    pred = model.predict(np.array(X_test))\n",
    "\n",
    "    count = 0\n",
    "    for i in tqdm(range(len(pred))):\n",
    "        value = 0\n",
    "        \n",
    "        first3_index = np.argsort(pred[i])[-3:]\n",
    "        correct = np.where(Y_test[i] == 1)[0]\n",
    "        \n",
    "        for j in first3_index:\n",
    "            if j in correct:\n",
    "                value += 1\n",
    "                \n",
    "        if (value>0):\n",
    "            count=count+1\n",
    "                \n",
    "    print(\"Images having atleast one genre correctly identified=\",count)\n",
    "    print(\"Total number of images =\",len(pred))\n",
    "    print(\"Accuracy = \", count/len(pred))"
   ]
  },
  {
   "cell_type": "code",
   "execution_count": 6,
   "metadata": {},
   "outputs": [
    {
     "name": "stderr",
     "output_type": "stream",
     "text": [
      "100%|██████████| 1107/1107 [00:01<00:00, 705.35it/s]\n",
      "100%|██████████| 1107/1107 [00:00<00:00, 38068.45it/s]"
     ]
    },
    {
     "name": "stdout",
     "output_type": "stream",
     "text": [
      "Images having atleast one genre correctly identified= 858\n",
      "Total number of images = 1107\n",
      "Accuracy =  0.7750677506775068\n"
     ]
    },
    {
     "name": "stderr",
     "output_type": "stream",
     "text": [
      "\n"
     ]
    }
   ],
   "source": [
    "accuracy_score(\"Test.csv\", \"Model_4d.h5\")"
   ]
  },
  {
   "cell_type": "code",
   "execution_count": 7,
   "metadata": {},
   "outputs": [
    {
     "name": "stderr",
     "output_type": "stream",
     "text": [
      "100%|██████████| 1107/1107 [00:01<00:00, 717.95it/s]\n",
      "100%|██████████| 1107/1107 [00:00<00:00, 35765.91it/s]"
     ]
    },
    {
     "name": "stdout",
     "output_type": "stream",
     "text": [
      "Images having atleast one genre correctly identified= 801\n",
      "Total number of images = 1107\n",
      "Accuracy =  0.7235772357723578\n"
     ]
    },
    {
     "name": "stderr",
     "output_type": "stream",
     "text": [
      "\n"
     ]
    }
   ],
   "source": [
    "accuracy_score(\"Test.csv\", \"Model_6c.h5\")"
   ]
  },
  {
   "cell_type": "code",
   "execution_count": null,
   "metadata": {},
   "outputs": [],
   "source": []
  }
 ],
 "metadata": {
  "kernelspec": {
   "display_name": "Python 3",
   "language": "python",
   "name": "python3"
  },
  "language_info": {
   "codemirror_mode": {
    "name": "ipython",
    "version": 3
   },
   "file_extension": ".py",
   "mimetype": "text/x-python",
   "name": "python",
   "nbconvert_exporter": "python",
   "pygments_lexer": "ipython3",
   "version": "3.5.2"
  }
 },
 "nbformat": 4,
 "nbformat_minor": 4
}
